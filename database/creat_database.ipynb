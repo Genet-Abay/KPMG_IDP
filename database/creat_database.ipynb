{
 "cells": [
  {
   "cell_type": "code",
   "execution_count": null,
   "metadata": {},
   "outputs": [],
   "source": [
    "import sqlite3\n",
    "import os"
   ]
  },
  {
   "cell_type": "code",
   "execution_count": null,
   "metadata": {},
   "outputs": [],
   "source": [
    "# connection and cursor\n",
    "connexion = sqlite3.connect(\"Database.db\")\n",
    "cursor = connexion.cursor()"
   ]
  },
  {
   "cell_type": "code",
   "execution_count": null,
   "metadata": {},
   "outputs": [],
   "source": [
    "# create tables\n",
    "cursor.execute('''\n",
    "        CREATE TABLE IF NOT EXISTS cao_data\n",
    "        (deposit_number INTEGER PRIMARY KEY ,\n",
    "        jc_number INTEGER,\n",
    "        jc_name_nl TEXT,\n",
    "        cla_title_nl TEXT,\n",
    "        retrieve_date INTEGER,\n",
    "        label TEXT,\n",
    "        themes_nl TEXT,\n",
    "        signature_date INTEGER,\n",
    "        validity_date INTEGER,\n",
    "        deposit_date INTEGER,\n",
    "        record_date INTEGER,\n",
    "        deposit_reg_date INTEGER,\n",
    "        enforced INTEGER,\n",
    "        royal_decree_date INTEGER,\n",
    "        notice_depositMB_date INTEGER,\n",
    "        pub_roy_decree_date INTEGER,\n",
    "        corrected_date INTEGER,\n",
    "        filename TEXT,\n",
    "        doc_size TEXT,\n",
    "        scope_nl TEXT,\n",
    "        no_scope_nl TEXT)\n",
    "        ''')\n",
    "print(\"cao_data created\")\n",
    "connexion.commit()"
   ]
  },
  {
   "cell_type": "code",
   "execution_count": null,
   "metadata": {},
   "outputs": [],
   "source": [
    "import csv\n",
    "\n",
    "file = open('CLA_meta_from_2018.csv', 'r')\n",
    "meta_data = csv.reader(file)\n",
    "for row in meta_data:\n",
    "    cursor.execute('''\n",
    "        INSERT INTO cao_data(deposit_number,\n",
    "        jc_number,\n",
    "        jc_name_nl,\n",
    "        cla_title_nl,\n",
    "        retrieve_date,\n",
    "        label,\n",
    "        themes_nl,\n",
    "        signature_date,\n",
    "        validity_date,\n",
    "        deposit_date,\n",
    "        record_date,\n",
    "        deposit_reg_date,\n",
    "        enforced,\n",
    "        royal_decree_date,\n",
    "        notice_depositMB_date,\n",
    "        pub_roy_decree_date,\n",
    "        corrected_date,\n",
    "        filename,\n",
    "        doc_size,\n",
    "        scope_nl,\n",
    "        no_scope_nl)\n",
    "        VALUES(?,?,?,?,?,?,?,?,?,?,?,?,?,?,?,?,?,?,?,?,?)\n",
    "        ''', row)\n",
    "connexion.commit()"
   ]
  }
 ],
 "metadata": {
  "kernelspec": {
   "display_name": "Python 3",
   "language": "python",
   "name": "python3"
  },
  "language_info": {
   "codemirror_mode": {
    "name": "ipython",
    "version": 3
   },
   "file_extension": ".py",
   "mimetype": "text/x-python",
   "name": "python",
   "nbconvert_exporter": "python",
   "pygments_lexer": "ipython3",
   "version": "3.10.7 (tags/v3.10.7:6cc6b13, Sep  5 2022, 14:08:36) [MSC v.1933 64 bit (AMD64)]"
  },
  "orig_nbformat": 4,
  "vscode": {
   "interpreter": {
    "hash": "5f79f8960d6dedbddfdd5036fe6150b0e398b172e679338c88a6d73d66b5e0f7"
   }
  }
 },
 "nbformat": 4,
 "nbformat_minor": 2
}
